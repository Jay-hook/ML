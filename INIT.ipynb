{
 "cells": [
  {
   "cell_type": "code",
   "execution_count": 3,
   "id": "619682ed-fc05-4504-9a29-56626d1b24a6",
   "metadata": {},
   "outputs": [
    {
     "name": "stdout",
     "output_type": "stream",
     "text": [
      "Requirement already satisfied: yfinance in c:\\users\\user\\appdata\\local\\programs\\python\\python311\\lib\\site-packages (0.2.28)\n",
      "Requirement already satisfied: pandas>=1.3.0 in c:\\users\\user\\appdata\\local\\programs\\python\\python311\\lib\\site-packages (from yfinance) (2.0.3)\n",
      "Requirement already satisfied: numpy>=1.16.5 in c:\\users\\user\\appdata\\local\\programs\\python\\python311\\lib\\site-packages (from yfinance) (1.25.2)\n",
      "Requirement already satisfied: requests>=2.31 in c:\\users\\user\\appdata\\local\\programs\\python\\python311\\lib\\site-packages (from yfinance) (2.31.0)\n",
      "Requirement already satisfied: multitasking>=0.0.7 in c:\\users\\user\\appdata\\local\\programs\\python\\python311\\lib\\site-packages (from yfinance) (0.0.11)\n",
      "Requirement already satisfied: lxml>=4.9.1 in c:\\users\\user\\appdata\\local\\programs\\python\\python311\\lib\\site-packages (from yfinance) (4.9.3)\n",
      "Requirement already satisfied: appdirs>=1.4.4 in c:\\users\\user\\appdata\\local\\programs\\python\\python311\\lib\\site-packages (from yfinance) (1.4.4)\n",
      "Requirement already satisfied: pytz>=2022.5 in c:\\users\\user\\appdata\\local\\programs\\python\\python311\\lib\\site-packages (from yfinance) (2023.3)\n",
      "Requirement already satisfied: frozendict>=2.3.4 in c:\\users\\user\\appdata\\local\\programs\\python\\python311\\lib\\site-packages (from yfinance) (2.3.8)\n",
      "Requirement already satisfied: beautifulsoup4>=4.11.1 in c:\\users\\user\\appdata\\local\\programs\\python\\python311\\lib\\site-packages (from yfinance) (4.12.2)\n",
      "Requirement already satisfied: html5lib>=1.1 in c:\\users\\user\\appdata\\local\\programs\\python\\python311\\lib\\site-packages (from yfinance) (1.1)\n",
      "Requirement already satisfied: soupsieve>1.2 in c:\\users\\user\\appdata\\local\\programs\\python\\python311\\lib\\site-packages (from beautifulsoup4>=4.11.1->yfinance) (2.4.1)\n",
      "Requirement already satisfied: six>=1.9 in c:\\users\\user\\appdata\\local\\programs\\python\\python311\\lib\\site-packages (from html5lib>=1.1->yfinance) (1.16.0)\n",
      "Requirement already satisfied: webencodings in c:\\users\\user\\appdata\\local\\programs\\python\\python311\\lib\\site-packages (from html5lib>=1.1->yfinance) (0.5.1)\n",
      "Requirement already satisfied: python-dateutil>=2.8.2 in c:\\users\\user\\appdata\\roaming\\python\\python311\\site-packages (from pandas>=1.3.0->yfinance) (2.8.2)\n",
      "Requirement already satisfied: tzdata>=2022.1 in c:\\users\\user\\appdata\\local\\programs\\python\\python311\\lib\\site-packages (from pandas>=1.3.0->yfinance) (2023.3)\n",
      "Requirement already satisfied: charset-normalizer<4,>=2 in c:\\users\\user\\appdata\\local\\programs\\python\\python311\\lib\\site-packages (from requests>=2.31->yfinance) (3.2.0)\n",
      "Requirement already satisfied: idna<4,>=2.5 in c:\\users\\user\\appdata\\local\\programs\\python\\python311\\lib\\site-packages (from requests>=2.31->yfinance) (3.4)\n",
      "Requirement already satisfied: urllib3<3,>=1.21.1 in c:\\users\\user\\appdata\\local\\programs\\python\\python311\\lib\\site-packages (from requests>=2.31->yfinance) (2.0.4)\n",
      "Requirement already satisfied: certifi>=2017.4.17 in c:\\users\\user\\appdata\\local\\programs\\python\\python311\\lib\\site-packages (from requests>=2.31->yfinance) (2023.7.22)\n"
     ]
    },
    {
     "name": "stderr",
     "output_type": "stream",
     "text": [
      "\n",
      "[notice] A new release of pip is available: 23.1.2 -> 23.2.1\n",
      "[notice] To update, run: python.exe -m pip install --upgrade pip\n"
     ]
    }
   ],
   "source": [
    "# 설치하기\n",
    "!pip install yfinance"
   ]
  },
  {
   "cell_type": "code",
   "execution_count": 4,
   "id": "c543692c-5dd0-422b-a850-7df6e721f2a2",
   "metadata": {},
   "outputs": [
    {
     "name": "stdout",
     "output_type": "stream",
     "text": [
      "[*********************100%%**********************]  1 of 1 completed\n"
     ]
    }
   ],
   "source": [
    "from pandas_datareader import data as pdr\n",
    "import yfinance as yf\n",
    "yf.pdr_override()\n",
    "# 삼선전자\n",
    "sec=pdr.get_data_yahoo('005930.KS',start='2000-01-1')"
   ]
  },
  {
   "cell_type": "code",
   "execution_count": 5,
   "id": "e911b315-82d2-4a75-8cc5-593c8a8ee879",
   "metadata": {},
   "outputs": [
    {
     "data": {
      "text/html": [
       "<div>\n",
       "<style scoped>\n",
       "    .dataframe tbody tr th:only-of-type {\n",
       "        vertical-align: middle;\n",
       "    }\n",
       "\n",
       "    .dataframe tbody tr th {\n",
       "        vertical-align: top;\n",
       "    }\n",
       "\n",
       "    .dataframe thead th {\n",
       "        text-align: right;\n",
       "    }\n",
       "</style>\n",
       "<table border=\"1\" class=\"dataframe\">\n",
       "  <thead>\n",
       "    <tr style=\"text-align: right;\">\n",
       "      <th></th>\n",
       "      <th>Open</th>\n",
       "      <th>High</th>\n",
       "      <th>Low</th>\n",
       "      <th>Close</th>\n",
       "      <th>Adj Close</th>\n",
       "      <th>Volume</th>\n",
       "    </tr>\n",
       "    <tr>\n",
       "      <th>Date</th>\n",
       "      <th></th>\n",
       "      <th></th>\n",
       "      <th></th>\n",
       "      <th></th>\n",
       "      <th></th>\n",
       "      <th></th>\n",
       "    </tr>\n",
       "  </thead>\n",
       "  <tbody>\n",
       "    <tr>\n",
       "      <th>2023-09-18</th>\n",
       "      <td>71300.0</td>\n",
       "      <td>71700.0</td>\n",
       "      <td>70200.0</td>\n",
       "      <td>70200.0</td>\n",
       "      <td>70200.0</td>\n",
       "      <td>16040727</td>\n",
       "    </tr>\n",
       "    <tr>\n",
       "      <th>2023-09-19</th>\n",
       "      <td>70400.0</td>\n",
       "      <td>70800.0</td>\n",
       "      <td>69600.0</td>\n",
       "      <td>69800.0</td>\n",
       "      <td>69800.0</td>\n",
       "      <td>11820188</td>\n",
       "    </tr>\n",
       "    <tr>\n",
       "      <th>2023-09-20</th>\n",
       "      <td>70000.0</td>\n",
       "      <td>70300.0</td>\n",
       "      <td>69500.0</td>\n",
       "      <td>69600.0</td>\n",
       "      <td>69600.0</td>\n",
       "      <td>10873015</td>\n",
       "    </tr>\n",
       "    <tr>\n",
       "      <th>2023-09-21</th>\n",
       "      <td>69200.0</td>\n",
       "      <td>69800.0</td>\n",
       "      <td>68800.0</td>\n",
       "      <td>68900.0</td>\n",
       "      <td>68900.0</td>\n",
       "      <td>10796336</td>\n",
       "    </tr>\n",
       "    <tr>\n",
       "      <th>2023-09-22</th>\n",
       "      <td>68300.0</td>\n",
       "      <td>68900.0</td>\n",
       "      <td>68300.0</td>\n",
       "      <td>68900.0</td>\n",
       "      <td>68900.0</td>\n",
       "      <td>8549986</td>\n",
       "    </tr>\n",
       "  </tbody>\n",
       "</table>\n",
       "</div>"
      ],
      "text/plain": [
       "               Open     High      Low    Close  Adj Close    Volume\n",
       "Date                                                               \n",
       "2023-09-18  71300.0  71700.0  70200.0  70200.0    70200.0  16040727\n",
       "2023-09-19  70400.0  70800.0  69600.0  69800.0    69800.0  11820188\n",
       "2023-09-20  70000.0  70300.0  69500.0  69600.0    69600.0  10873015\n",
       "2023-09-21  69200.0  69800.0  68800.0  68900.0    68900.0  10796336\n",
       "2023-09-22  68300.0  68900.0  68300.0  68900.0    68900.0   8549986"
      ]
     },
     "execution_count": 5,
     "metadata": {},
     "output_type": "execute_result"
    }
   ],
   "source": [
    "sec.tail()"
   ]
  },
  {
   "cell_type": "code",
   "execution_count": 10,
   "id": "9c61a509-fdd6-43b1-b642-7c8da03356ed",
   "metadata": {},
   "outputs": [],
   "source": [
    "################################################################################################\n",
    "### BolingerBand\n",
    "################################################################################################\n",
    "def fnBolingerBand(m_DF, n=20, k=2):\n",
    "    m_DF['20d_ma'] = pd.Series.rolling_mean(m_DF['Adj Close'], window=n)\n",
    "    m_DF['Bol_upper'] = pd.Series.rolling_mean(m_DF['Adj Close'], window=n) + k* pd.rolling_std(m_DF['Adj Close'], n, min_periods=n)\n",
    "    m_DF['Bol_lower'] = pd.Series.rolling_mean(m_DF['Adj Close'], window=n) - k* pd.rolling_std(m_DF['Adj Close'], n, min_periods=n)\n",
    "    return m_DF"
   ]
  },
  {
   "cell_type": "code",
   "execution_count": 8,
   "id": "0a080bbf-a434-4b9a-8775-fad4e41cceb8",
   "metadata": {},
   "outputs": [],
   "source": [
    "import numpy as np\n",
    "import pandas as pd\n",
    "def fnRSI(m_Df, m_N):\n",
    "    U = np.where(m_Df.diff(1) > 0, m_Df.diff(1), 0)\n",
    "    D = np.where(m_Df.diff(1) < 0, m_Df.diff(1) *(-1), 0)\n",
    "    AU = pd.DataFrame(U).rolling( window=m_N, min_periods=m_N).mean()\n",
    "    AD = pd.DataFrame(D).rolling( window=m_N, min_periods=m_N).mean()\n",
    "    RSI = AU.div(AD+AU) *100\n",
    "    return RSI"
   ]
  },
  {
   "cell_type": "code",
   "execution_count": 11,
   "id": "f2ccc6c5-e7fc-4832-83eb-14f31ab76b1c",
   "metadata": {},
   "outputs": [
    {
     "ename": "AttributeError",
     "evalue": "type object 'Series' has no attribute 'rolling_mean'",
     "output_type": "error",
     "traceback": [
      "\u001b[1;31m---------------------------------------------------------------------------\u001b[0m",
      "\u001b[1;31mAttributeError\u001b[0m                            Traceback (most recent call last)",
      "Cell \u001b[1;32mIn[11], line 1\u001b[0m\n\u001b[1;32m----> 1\u001b[0m \u001b[43mfnBolingerBand\u001b[49m\u001b[43m(\u001b[49m\u001b[43msec\u001b[49m\u001b[43m)\u001b[49m\n",
      "Cell \u001b[1;32mIn[10], line 5\u001b[0m, in \u001b[0;36mfnBolingerBand\u001b[1;34m(m_DF, n, k)\u001b[0m\n\u001b[0;32m      4\u001b[0m \u001b[38;5;28;01mdef\u001b[39;00m \u001b[38;5;21mfnBolingerBand\u001b[39m(m_DF, n\u001b[38;5;241m=\u001b[39m\u001b[38;5;241m20\u001b[39m, k\u001b[38;5;241m=\u001b[39m\u001b[38;5;241m2\u001b[39m):\n\u001b[1;32m----> 5\u001b[0m     m_DF[\u001b[38;5;124m'\u001b[39m\u001b[38;5;124m20d_ma\u001b[39m\u001b[38;5;124m'\u001b[39m] \u001b[38;5;241m=\u001b[39m \u001b[43mpd\u001b[49m\u001b[38;5;241;43m.\u001b[39;49m\u001b[43mSeries\u001b[49m\u001b[38;5;241;43m.\u001b[39;49m\u001b[43mrolling_mean\u001b[49m(m_DF[\u001b[38;5;124m'\u001b[39m\u001b[38;5;124mAdj Close\u001b[39m\u001b[38;5;124m'\u001b[39m], window\u001b[38;5;241m=\u001b[39mn)\n\u001b[0;32m      6\u001b[0m     m_DF[\u001b[38;5;124m'\u001b[39m\u001b[38;5;124mBol_upper\u001b[39m\u001b[38;5;124m'\u001b[39m] \u001b[38;5;241m=\u001b[39m pd\u001b[38;5;241m.\u001b[39mSeries\u001b[38;5;241m.\u001b[39mrolling_mean(m_DF[\u001b[38;5;124m'\u001b[39m\u001b[38;5;124mAdj Close\u001b[39m\u001b[38;5;124m'\u001b[39m], window\u001b[38;5;241m=\u001b[39mn) \u001b[38;5;241m+\u001b[39m k\u001b[38;5;241m*\u001b[39m pd\u001b[38;5;241m.\u001b[39mrolling_std(m_DF[\u001b[38;5;124m'\u001b[39m\u001b[38;5;124mAdj Close\u001b[39m\u001b[38;5;124m'\u001b[39m], n, min_periods\u001b[38;5;241m=\u001b[39mn)\n\u001b[0;32m      7\u001b[0m     m_DF[\u001b[38;5;124m'\u001b[39m\u001b[38;5;124mBol_lower\u001b[39m\u001b[38;5;124m'\u001b[39m] \u001b[38;5;241m=\u001b[39m pd\u001b[38;5;241m.\u001b[39mSeries\u001b[38;5;241m.\u001b[39mrolling_mean(m_DF[\u001b[38;5;124m'\u001b[39m\u001b[38;5;124mAdj Close\u001b[39m\u001b[38;5;124m'\u001b[39m], window\u001b[38;5;241m=\u001b[39mn) \u001b[38;5;241m-\u001b[39m k\u001b[38;5;241m*\u001b[39m pd\u001b[38;5;241m.\u001b[39mrolling_std(m_DF[\u001b[38;5;124m'\u001b[39m\u001b[38;5;124mAdj Close\u001b[39m\u001b[38;5;124m'\u001b[39m], n, min_periods\u001b[38;5;241m=\u001b[39mn)\n",
      "\u001b[1;31mAttributeError\u001b[0m: type object 'Series' has no attribute 'rolling_mean'"
     ]
    }
   ],
   "source": [
    "pd.ro"
   ]
  }
 ],
 "metadata": {
  "kernelspec": {
   "display_name": "Python 3 (ipykernel)",
   "language": "python",
   "name": "python3"
  },
  "language_info": {
   "codemirror_mode": {
    "name": "ipython",
    "version": 3
   },
   "file_extension": ".py",
   "mimetype": "text/x-python",
   "name": "python",
   "nbconvert_exporter": "python",
   "pygments_lexer": "ipython3",
   "version": "3.11.4"
  }
 },
 "nbformat": 4,
 "nbformat_minor": 5
}
