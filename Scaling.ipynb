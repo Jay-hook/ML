{
 "cells": [
  {
   "cell_type": "markdown",
   "id": "54fe7fe4-871c-4d27-93c4-9859886d2c31",
   "metadata": {},
   "source": [
    "### sklearn.preprocessing.StandardScaler\n",
    "* class sklearn.preprocessing.StandardScaler(*, copy=True, with_mean=True, with_std=True)"
   ]
  },
  {
   "cell_type": "code",
   "execution_count": 9,
   "id": "7da76c70-7333-4432-b7f1-a8d781f9c6b0",
   "metadata": {},
   "outputs": [
    {
     "name": "stdout",
     "output_type": "stream",
     "text": [
      "decisiontree : 0.9533333333333334\n",
      "regression : 0.9733333333333334\n"
     ]
    },
    {
     "name": "stderr",
     "output_type": "stream",
     "text": [
      "C:\\Users\\user\\AppData\\Local\\Programs\\Python\\Python311\\Lib\\site-packages\\sklearn\\linear_model\\_logistic.py:460: ConvergenceWarning: lbfgs failed to converge (status=1):\n",
      "STOP: TOTAL NO. of ITERATIONS REACHED LIMIT.\n",
      "\n",
      "Increase the number of iterations (max_iter) or scale the data as shown in:\n",
      "    https://scikit-learn.org/stable/modules/preprocessing.html\n",
      "Please also refer to the documentation for alternative solver options:\n",
      "    https://scikit-learn.org/stable/modules/linear_model.html#logistic-regression\n",
      "  n_iter_i = _check_optimize_result(\n"
     ]
    }
   ],
   "source": [
    "from sklearn.datasets import load_iris\n",
    "from sklearn.tree import DecisionTreeClassifier\n",
    "from sklearn.model_selection import cross_val_score\n",
    "from sklearn.linear_model import LogisticRegression\n",
    "import numpy as np\n",
    "\n",
    "\n",
    "iris = load_iris()\n",
    "X = iris.data\n",
    "y = iris.target\n",
    "dt = DecisionTreeClassifier(random_state = 42)\n",
    "lr = LogisticRegression()\n",
    "\n",
    "result_dt = cross_val_score(dt, X, y)\n",
    "result_lr = cross_val_score(lr, X, y)\n",
    "\n",
    "print(f'decisiontree : {np.mean(result_dt)}')\n",
    "print(f'regression : {np.mean(result_lr)}')"
   ]
  },
  {
   "cell_type": "code",
   "execution_count": 10,
   "id": "8f329c82-101a-4153-9340-886ba018ed76",
   "metadata": {},
   "outputs": [
    {
     "name": "stdout",
     "output_type": "stream",
     "text": [
      "decisiontree : 0.9533333333333334\n",
      "regression : 0.9600000000000002\n"
     ]
    }
   ],
   "source": [
    "from sklearn.preprocessing import StandardScaler, MinMaxScaler\n",
    "scaler = StandardScaler()\n",
    "scaler.fit(X)\n",
    "scaled_X = scaler.transform(X)\n",
    "\n",
    "result_dt = cross_val_score(dt, scaled_X, y)\n",
    "result_lr = cross_val_score(lr, scaled_X, y)\n",
    "\n",
    "print(f'decisiontree : {np.mean(result_dt)}')\n",
    "print(f'regression : {np.mean(result_lr)}')"
   ]
  },
  {
   "cell_type": "code",
   "execution_count": 11,
   "id": "58ec053b-38c0-4f65-aa3e-aa37660c1d99",
   "metadata": {},
   "outputs": [
    {
     "name": "stdout",
     "output_type": "stream",
     "text": [
      "decisiontree : 0.9533333333333334\n",
      "regression : 0.9266666666666665\n"
     ]
    }
   ],
   "source": [
    "from sklearn.preprocessing import MinMaxScaler\n",
    "scaler = MinMaxScaler()\n",
    "scaler.fit(X)\n",
    "scaled_X = scaler.transform(X)\n",
    "\n",
    "result_dt = cross_val_score(dt, scaled_X, y)\n",
    "result_lr = cross_val_score(lr, scaled_X, y)\n",
    "\n",
    "print(f'decisiontree : {np.mean(result_dt)}')\n",
    "print(f'regression : {np.mean(result_lr)}')"
   ]
  },
  {
   "cell_type": "code",
   "execution_count": null,
   "id": "005e9fae-9ee7-4ad3-9a9b-9f1d796196d1",
   "metadata": {},
   "outputs": [],
   "source": []
  },
  {
   "cell_type": "code",
   "execution_count": null,
   "id": "ea849f99-5777-4517-a4de-103c0e3f67b2",
   "metadata": {},
   "outputs": [],
   "source": []
  },
  {
   "cell_type": "code",
   "execution_count": null,
   "id": "af092981-7889-46f6-a947-eaac04e6ad01",
   "metadata": {},
   "outputs": [],
   "source": []
  },
  {
   "cell_type": "code",
   "execution_count": null,
   "id": "94bc9409-e0ba-48d2-bf71-bde91455337e",
   "metadata": {},
   "outputs": [],
   "source": []
  },
  {
   "cell_type": "code",
   "execution_count": null,
   "id": "3f22b7a4-f0a3-4426-9b40-cf80a3643125",
   "metadata": {},
   "outputs": [],
   "source": []
  },
  {
   "cell_type": "code",
   "execution_count": null,
   "id": "187336c2-4e3b-4ba8-80f6-fc18b7afd6aa",
   "metadata": {},
   "outputs": [],
   "source": []
  }
 ],
 "metadata": {
  "kernelspec": {
   "display_name": "Python 3 (ipykernel)",
   "language": "python",
   "name": "python3"
  },
  "language_info": {
   "codemirror_mode": {
    "name": "ipython",
    "version": 3
   },
   "file_extension": ".py",
   "mimetype": "text/x-python",
   "name": "python",
   "nbconvert_exporter": "python",
   "pygments_lexer": "ipython3",
   "version": "3.11.4"
  }
 },
 "nbformat": 4,
 "nbformat_minor": 5
}
