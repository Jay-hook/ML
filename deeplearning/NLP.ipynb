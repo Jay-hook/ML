{
 "cells": [
  {
   "cell_type": "markdown",
   "id": "e5833ed9-4ec6-4bbd-97d0-b5c47161884e",
   "metadata": {},
   "source": [
    "tf.keras.preprocessing.text.text_to_word_sequence(\n",
    "    input_text,\n",
    "    filters='!\"#$%&()*+,-./:;<=>?@[\\\\]^_`{|}~\\t\\n',\n",
    "    lower=True,\n",
    "    split=' '\n",
    ")"
   ]
  },
  {
   "cell_type": "code",
   "execution_count": 15,
   "id": "23d75135-04e3-4d5a-8f29-66ba2d3eeb4b",
   "metadata": {},
   "outputs": [
    {
     "name": "stdout",
     "output_type": "stream",
     "text": [
      "\n",
      "원문:\n",
      " 해보지 않으면 해낼 수 없다\n",
      "\n",
      "토큰화:\n",
      " ['해보지', '않으면', '해낼', '수', '없다']\n"
     ]
    }
   ],
   "source": [
    "import numpy as np\n",
    "import tensorflow as tf\n",
    "from numpy import array\n",
    "\n",
    "from tensorflow.keras.preprocessing.sequence import pad_sequences\n",
    "from tensorflow.keras.models import Sequential\n",
    "from tensorflow.keras.layers import Dense, Flatten, Embedding\n",
    "from tensorflow.keras.preprocessing.text import Tokenizer, text_to_word_sequence\n",
    "\n",
    "text = \"해보지 않으면 해낼 수 없다\"\n",
    "\n",
    "result = text_to_word_sequence(text)\n",
    "print('\\n원문:\\n', text)\n",
    "print('\\n토큰화:\\n', result)"
   ]
  },
  {
   "cell_type": "code",
   "execution_count": 7,
   "id": "1d360c43-b2d4-415b-a2d6-a317dd97bbf6",
   "metadata": {},
   "outputs": [
    {
     "name": "stdout",
     "output_type": "stream",
     "text": [
      "\n",
      "단어 카운트:\n",
      " OrderedDict([('먼저', 1), ('텍스트의', 3), ('각', 1), ('단어를', 1), ('나누어', 1), ('단위를', 1), ('토큰화', 3), ('합니다', 1), ('단어로', 1), ('해야', 1), ('딥러닝에서', 2), ('인식됩니다', 1), ('한', 1), ('결과는', 1), ('사용', 1), ('할', 1), ('수', 1), ('있습니다', 1)])\n",
      "\n",
      "문장 카운트:\n",
      " 3\n",
      "\n",
      "각 단어가 몇개의 문장에 포함되어 있는가:\n",
      " defaultdict(<class 'int'>, {'각': 1, '토큰화': 3, '먼저': 1, '단어를': 1, '나누어': 1, '합니다': 1, '텍스트의': 2, '단위를': 1, '단어로': 1, '딥러닝에서': 2, '해야': 1, '인식됩니다': 1, '할': 1, '사용': 1, '있습니다': 1, '결과는': 1, '수': 1, '한': 1})\n",
      "\n",
      "각 단어에 매겨진 인덱스 값:\n",
      " {'텍스트의': 1, '토큰화': 2, '딥러닝에서': 3, '먼저': 4, '각': 5, '단어를': 6, '나누어': 7, '단위를': 8, '합니다': 9, '단어로': 10, '해야': 11, '인식됩니다': 12, '한': 13, '결과는': 14, '사용': 15, '할': 16, '수': 17, '있습니다': 18}\n"
     ]
    }
   ],
   "source": [
    "docs = ['먼저 텍스트의 각 단어를 나누어 텍스트의 단위를 토큰화 합니다.',\n",
    "        '텍스트의 단어로 토큰화 해야 딥러닝에서 인식됩니다.',\n",
    "        '토큰화 한 결과는 딥러닝에서 사용 할 수 있습니다.']\n",
    "token = Tokenizer() # 토큰화 함수 지정\n",
    "token.fit_on_texts(docs) # 토큰화 함수에 문장 적용\n",
    "# 단어의 빈도수를 계산한 결과를 각 옵션에 맞추어 출력합니다.\n",
    "print(\"\\n단어 카운트:\\n\", token.word_counts)\n",
    "# Tokenizer()의 word_counts 함수는 순서를 기억하는 OrderedDict클래스를 사용합니다.\n",
    "\n",
    "# 출력되는 순서는 랜덤입니다.\n",
    "print(\"\\n문장 카운트:\\n\", token.document_count)\n",
    "print(\"\\n각 단어가 몇개의 문장에 포함되어 있는가:\\n\", token.word_docs)\n",
    "print(\"\\n각 단어에 매겨진 인덱스 값:\\n\", token.word_index)"
   ]
  },
  {
   "cell_type": "markdown",
   "id": "2abe9b17-9356-4bda-acc9-b717e39f5e64",
   "metadata": {},
   "source": [
    "- tf.keras.preprocessing.text.Tokenizer(\n",
    "    num_words=None,\n",
    "    filters='!\"#$%&()*+,-./:;<=>?@[\\\\]^_`{|}~\\t\\n',\n",
    "    lower=True,\n",
    "    split=' ',\n",
    "    char_level=False,\n",
    "    oov_token=None,\n",
    "    analyzer=None,\n",
    "    **kwargs\n",
    ")"
   ]
  },
  {
   "cell_type": "code",
   "execution_count": 9,
   "id": "99be5eb3-8240-4f9b-b0f4-ef74af08ead8",
   "metadata": {},
   "outputs": [
    {
     "name": "stdout",
     "output_type": "stream",
     "text": [
      "문장의 토큰화: {'오랫동안': 1, '꿈꾸는': 2, '자는': 3, '그': 4, '꿈을': 5, '닮아간다': 6}\n",
      "문장의 숫자화: [[1, 2, 3, 4, 5, 6]]\n",
      "문장의 원-핫 인코딩:\n",
      " [[[0. 1. 0. 0. 0. 0. 0.]\n",
      "  [0. 0. 1. 0. 0. 0. 0.]\n",
      "  [0. 0. 0. 1. 0. 0. 0.]\n",
      "  [0. 0. 0. 0. 1. 0. 0.]\n",
      "  [0. 0. 0. 0. 0. 1. 0.]\n",
      "  [0. 0. 0. 0. 0. 0. 1.]]]\n"
     ]
    }
   ],
   "source": [
    "text = \"오랫동안 꿈꾸는 자는 그 꿈을 닮아간다\"\n",
    "\n",
    "token = Tokenizer()\n",
    "token.fit_on_texts([text])\n",
    "print('문장의 토큰화:', token.word_index)\n",
    "\n",
    "x = token.texts_to_sequences([text])\n",
    "print('문장의 숫자화:', x)\n",
    "\n",
    "from tensorflow.keras.utils import to_categorical\n",
    "\n",
    "word_size = len(token.word_index) + 1\n",
    "x = to_categorical(x, num_classes=word_size)\n",
    "print('문장의 원-핫 인코딩:\\n', x)"
   ]
  },
  {
   "cell_type": "markdown",
   "id": "7442f794-6952-40d6-81dc-77ec2b382b82",
   "metadata": {},
   "source": [
    "tf.keras.utils.pad_sequences(\n",
    "    sequences,\n",
    "    maxlen=None,\n",
    "    dtype='int32',\n",
    "    padding='pre',\n",
    "    truncating='pre',\n",
    "    value=0.0\n",
    ")"
   ]
  },
  {
   "cell_type": "code",
   "execution_count": 55,
   "id": "40f50812-2b3a-4b67-ac1c-7864601d543e",
   "metadata": {},
   "outputs": [
    {
     "name": "stdout",
     "output_type": "stream",
     "text": [
      "{'너무': 1, '재밌네요': 2, '최고예요': 3, '참': 4, '잘': 5, '만든': 6, '영화예요': 7, '추천하고': 8, '싶은': 9, '영화입니다': 10, '한': 11, '번': 12, '더': 13, '보고싶네요': 14, '글쎄요': 15, '별로예요': 16, '생각보다': 17, '지루하네요': 18, '연기가': 19, '어색해요': 20, '재미없어요': 21}\n",
      "\n",
      "리뷰 텍스트, 토큰화 결과:\n",
      " [[1, 2], [3], [4, 5, 6, 7], [8, 9, 10], [11, 12, 13, 14], [15], [16], [17, 18], [19, 20], [21]]\n",
      "\n",
      "패딩 결과: [[ 0  0  1  2]\n",
      " [ 0  0  0  3]\n",
      " [ 4  5  6  7]\n",
      " [ 0  8  9 10]\n",
      " [11 12 13 14]\n",
      " [ 0  0  0 15]\n",
      " [ 0  0  0 16]\n",
      " [ 0  0 17 18]\n",
      " [ 0  0 19 20]\n",
      " [ 0  0  0 21]]\n",
      "\n",
      "딥러닝 모델 시작:\n",
      "Epoch 1/22\n",
      "1/1 [==============================] - 1s 1s/step - loss: 0.6855 - accuracy: 0.9000\n",
      "Epoch 2/22\n",
      "1/1 [==============================] - 0s 14ms/step - loss: 0.6836 - accuracy: 0.9000\n",
      "Epoch 3/22\n",
      "1/1 [==============================] - 0s 11ms/step - loss: 0.6817 - accuracy: 1.0000\n",
      "Epoch 4/22\n",
      "1/1 [==============================] - 0s 11ms/step - loss: 0.6798 - accuracy: 1.0000\n",
      "Epoch 5/22\n",
      "1/1 [==============================] - 0s 23ms/step - loss: 0.6778 - accuracy: 1.0000\n",
      "Epoch 6/22\n",
      "1/1 [==============================] - 0s 13ms/step - loss: 0.6759 - accuracy: 1.0000\n",
      "Epoch 7/22\n",
      "1/1 [==============================] - 0s 12ms/step - loss: 0.6740 - accuracy: 1.0000\n",
      "Epoch 8/22\n",
      "1/1 [==============================] - 0s 10ms/step - loss: 0.6720 - accuracy: 1.0000\n",
      "Epoch 9/22\n",
      "1/1 [==============================] - 0s 14ms/step - loss: 0.6699 - accuracy: 1.0000\n",
      "Epoch 10/22\n",
      "1/1 [==============================] - 0s 10ms/step - loss: 0.6678 - accuracy: 1.0000\n",
      "Epoch 11/22\n",
      "1/1 [==============================] - 0s 8ms/step - loss: 0.6656 - accuracy: 1.0000\n",
      "Epoch 12/22\n",
      "1/1 [==============================] - 0s 9ms/step - loss: 0.6634 - accuracy: 1.0000\n",
      "Epoch 13/22\n",
      "1/1 [==============================] - 0s 14ms/step - loss: 0.6611 - accuracy: 1.0000\n",
      "Epoch 14/22\n",
      "1/1 [==============================] - 0s 11ms/step - loss: 0.6587 - accuracy: 1.0000\n",
      "Epoch 15/22\n",
      "1/1 [==============================] - 0s 10ms/step - loss: 0.6563 - accuracy: 1.0000\n",
      "Epoch 16/22\n",
      "1/1 [==============================] - 0s 10ms/step - loss: 0.6537 - accuracy: 1.0000\n",
      "Epoch 17/22\n",
      "1/1 [==============================] - 0s 6ms/step - loss: 0.6511 - accuracy: 1.0000\n",
      "Epoch 18/22\n",
      "1/1 [==============================] - 0s 0s/step - loss: 0.6485 - accuracy: 1.0000\n",
      "Epoch 19/22\n",
      "1/1 [==============================] - 0s 21ms/step - loss: 0.6457 - accuracy: 1.0000\n",
      "Epoch 20/22\n",
      "1/1 [==============================] - 0s 11ms/step - loss: 0.6428 - accuracy: 1.0000\n",
      "Epoch 21/22\n",
      "1/1 [==============================] - 0s 6ms/step - loss: 0.6399 - accuracy: 1.0000\n",
      "Epoch 22/22\n",
      "1/1 [==============================] - 0s 12ms/step - loss: 0.6369 - accuracy: 1.0000\n",
      "1/1 [==============================] - 0s 141ms/step - loss: 0.6337 - accuracy: 1.0000\n",
      "\n",
      " Accuracy: 1.0000\n"
     ]
    }
   ],
   "source": [
    "docs = ['너무 재밌네요',\n",
    "        '최고예요',\n",
    "        '참 잘 만든 영화예요',\n",
    "        '추천하고 싶은 영화입니다.',\n",
    "        '한 번 더 보고싶네요',\n",
    "        '글쎄요',\n",
    "        '별로예요',\n",
    "        '생각보다 지루하네요',\n",
    "        '연기가 어색해요',\n",
    "        '재미없어요']\n",
    "class_ = array([1, 1, 1, 1, 1, 0, 0, 0, 0, 0])\n",
    "token = Tokenizer()\n",
    "token.fit_on_texts(docs)\n",
    "print(token.word_index)\n",
    "x = token.texts_to_sequences(docs)\n",
    "print(\"\\n리뷰 텍스트, 토큰화 결과:\\n\",x)\n",
    "padded_x = pad_sequences(x, 4)\n",
    "print(\"\\n패딩 결과:\", padded_x)\n",
    "\n",
    "print(\"\\n딥러닝 모델 시작:\")\n",
    "\n",
    "word_size = len(token.word_index) + 1\n",
    "\n",
    "model = Sequential()\n",
    "model.add(Embedding(word_size, 8, input_length=4))\n",
    "model.add(Flatten())\n",
    "model.add(Dense(32, activation='relu'))\n",
    "model.add(Dense(1, activation='sigmoid'))\n",
    "model.compile(optimizer='adam',\n",
    "             loss='binary_crossentropy',\n",
    "             metrics=['accuracy'])\n",
    "model.fit(padded_x, class_, epochs=22)\n",
    "print(f\"\\n Accuracy: {model.evaluate(padded_x, class_)[1]:.4f}\")"
   ]
  },
  {
   "cell_type": "code",
   "execution_count": 56,
   "id": "db544184-ac89-4ac8-8c83-3bc7451ce3fb",
   "metadata": {},
   "outputs": [
    {
     "name": "stdout",
     "output_type": "stream",
     "text": [
      "[[17, 2]]\n"
     ]
    }
   ],
   "source": [
    "word = ['생각보다 재밌네요']\n",
    "x_test = token.texts_to_sequences(word)\n",
    "print(x_test)"
   ]
  },
  {
   "cell_type": "code",
   "execution_count": 57,
   "id": "a150af81-4f6a-4c0e-a46b-733b4fae6ec5",
   "metadata": {},
   "outputs": [
    {
     "name": "stdout",
     "output_type": "stream",
     "text": [
      "\n",
      "패딩 결과: [[ 0  0 17  2]]\n"
     ]
    }
   ],
   "source": [
    "padded_x_test = pad_sequences(x_test, 4)\n",
    "print(\"\\n패딩 결과:\", padded_x_test)"
   ]
  },
  {
   "cell_type": "code",
   "execution_count": 58,
   "id": "07f4cf2d-7cf1-4c46-a9e9-3f623c1d7a44",
   "metadata": {},
   "outputs": [
    {
     "name": "stdout",
     "output_type": "stream",
     "text": [
      "1/1 [==============================] - 0s 62ms/step\n"
     ]
    },
    {
     "data": {
      "text/plain": [
       "array([[0.49428397]], dtype=float32)"
      ]
     },
     "execution_count": 58,
     "metadata": {},
     "output_type": "execute_result"
    }
   ],
   "source": [
    "model.predict(padded_x_test)"
   ]
  },
  {
   "cell_type": "code",
   "execution_count": null,
   "id": "ca8d806e-c2d8-4bfe-b55d-e931885bf5c5",
   "metadata": {},
   "outputs": [],
   "source": []
  },
  {
   "cell_type": "code",
   "execution_count": null,
   "id": "2cb6c0d8-1fcb-4e73-8c17-d5cbe8242255",
   "metadata": {},
   "outputs": [],
   "source": []
  }
 ],
 "metadata": {
  "kernelspec": {
   "display_name": "Python 3 (ipykernel)",
   "language": "python",
   "name": "python3"
  },
  "language_info": {
   "codemirror_mode": {
    "name": "ipython",
    "version": 3
   },
   "file_extension": ".py",
   "mimetype": "text/x-python",
   "name": "python",
   "nbconvert_exporter": "python",
   "pygments_lexer": "ipython3",
   "version": "3.11.4"
  }
 },
 "nbformat": 4,
 "nbformat_minor": 5
}
