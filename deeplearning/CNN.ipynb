{
 "cells": [
  {
   "cell_type": "markdown",
   "id": "c58a4d79-fca8-4f19-bff6-97133e7aa053",
   "metadata": {},
   "source": [
    "![image](https://github.com/kbigdata005/ml/assets/139095086/bf605d7d-2b6d-4250-81b4-ab95dde835a2)"
   ]
  },
  {
   "cell_type": "markdown",
   "id": "23a86e7f-1782-4219-85c1-60c401bd99c7",
   "metadata": {},
   "source": [
    "- tf.keras.layers.Conv2D(\n",
    "    filters,\n",
    "    kernel_size,\n",
    "    strides=(1, 1),\n",
    "    padding='valid',\n",
    "    data_format=None,\n",
    "    dilation_rate=(1, 1),\n",
    "    groups=1,\n",
    "    activation=None,\n",
    "    use_bias=True,\n",
    "    kernel_initializer='glorot_uniform',\n",
    "    bias_initializer='zeros',\n",
    "    kernel_regularizer=None,\n",
    "    bias_regularizer=None,\n",
    "    activity_regularizer=None,\n",
    "    kernel_constraint=None,\n",
    "    bias_constraint=None,\n",
    "    **kwargs\n",
    ")\n",
    "\n",
    "- tf.keras.layers.MaxPooling2D(\r\n",
    "    pool_size=(2, 2),\r\n",
    "    strides=None,\r\n",
    "    padding='valid',\r\n",
    "    data_format=None,\r\n",
    "    **kwa\n",
    "- tf.keras.layers.Dropout(\r\n",
    "    rate, noise_shape=None, seed=None, **kwarg\n",
    "\r\n",
    "- tf.keras.layers.Flatten(\r\n",
    "    data_format=None, **kwargs\r\n",
    ")\n",
    ")rgs\r\n",
    ")"
   ]
  },
  {
   "cell_type": "code",
   "execution_count": 17,
   "id": "4808c62a-5dce-40c0-b3e6-5d56566ad2e4",
   "metadata": {},
   "outputs": [],
   "source": [
    "from tensorflow.keras.datasets import mnist\n",
    "from tensorflow.keras.layers import Conv2D, Dropout, Flatten, MaxPooling2D, Dense\n",
    "from tensorflow.keras.models import Sequential\n",
    "from tensorflow.keras.utils import to_categorical\n",
    "import os\n",
    "from tensorflow.keras.callbacks import ModelCheckpoint, EarlyStopping\n",
    "import numpy as np\n",
    "import matplotlib.pyplot as plt\n",
    "\n",
    "(X_train, y_train), (X_test, y_test) = mnist.load_data()\n",
    "\n",
    "X_train = X_train.reshape(60000, 28, 28, 1) / 255\n",
    "X_test = X_test.reshape(10000, 28, 28, 1) / 255\n",
    "y_train = to_categorical(y_train)\n",
    "y_test = to_categorical(y_test)"
   ]
  },
  {
   "cell_type": "code",
   "execution_count": 18,
   "id": "9e5e63db-609a-4f02-bb4c-08167f1fe982",
   "metadata": {},
   "outputs": [],
   "source": [
    "# CNN 구조\n",
    "model = Sequential()\n",
    "model.add(Conv2D(filters=32, kernel_size=(3, 3), padding='same', activation='relu')) # convolution \n",
    "model.add(Conv2D(filters=64, kernel_size=(3, 3), activation='relu')) # convolution \n",
    "model.add(MaxPooling2D(pool_size=(2, 2))) \n",
    "model.add(Dropout(0.25))\n",
    "model.add(Flatten())\n",
    "model.add(Dense(512, activation='relu'))\n",
    "model.add(Dropout(0.25))\n",
    "model.add(Dense(10, activation='softmax'))\n",
    "\n",
    "model.compile(loss='categorical_crossentropy',\n",
    "             optimizer='adam',\n",
    "             metrics=['accuracy'])"
   ]
  },
  {
   "cell_type": "code",
   "execution_count": null,
   "id": "edba70d9-04f5-4ead-a432-33e281c3666e",
   "metadata": {},
   "outputs": [],
   "source": [
    "MODEL_DIR = \"./CNN/\"\n",
    "if not os.path.exists(MODEL_DIR) : \n",
    "    os.mkdir(MODEL_DIR)\n",
    "\n",
    "modelpath = './CNN/{epoch:02d} - {val_loss:.4f}.hdf5'\n",
    "checkpointer = ModelCheckpoint(filepath=modelpath,\n",
    "                               monitor='val_loss',\n",
    "                               verbose = 1,\n",
    "                               save_best_only=True)\n",
    "\n",
    "# 학습 자동 중단 설정\n",
    "early_stopping_callback = EarlyStopping(monitor='val_loss', patience=11)\n",
    "\n",
    "history = model.fit(X_train, y_train, validation_data=(X_test, y_test),\n",
    "                    epochs=33, batch_size=200, verbose=0,\n",
    "                    callbacks=[early_stopping_callback, checkpointer])\n",
    "print(f\"\\n Test Accuracy: {model.evaluate(X_test, y_test)[1]:.4f}\")\n",
    "y_vloss = history.history['val_loss']\n",
    "y_loss = history.history['loss']\n",
    "x_len = np.arange(len(y_loss))\n",
    "plt.plot(x_len, y_vloss, marker='.', c='red', label='Testset_loss')\n",
    "plt.plot(x_len, y_loss, marker='.', c='blue', label='Trainset_loss')\n",
    "plt.legend(loc='upper right')\n",
    "plt.grid()\n",
    "plt.xlabel('epoch')\n",
    "plt.ylabel('loss')\n",
    "plt.show()"
   ]
  },
  {
   "cell_type": "code",
   "execution_count": null,
   "id": "1dc317f9-5ca4-4fba-90e0-e9a120177208",
   "metadata": {},
   "outputs": [],
   "source": []
  }
 ],
 "metadata": {
  "kernelspec": {
   "display_name": "Python 3 (ipykernel)",
   "language": "python",
   "name": "python3"
  },
  "language_info": {
   "codemirror_mode": {
    "name": "ipython",
    "version": 3
   },
   "file_extension": ".py",
   "mimetype": "text/x-python",
   "name": "python",
   "nbconvert_exporter": "python",
   "pygments_lexer": "ipython3",
   "version": "3.11.4"
  }
 },
 "nbformat": 4,
 "nbformat_minor": 5
}
