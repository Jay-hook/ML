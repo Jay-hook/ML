{
 "cells": [
  {
   "cell_type": "code",
   "execution_count": 72,
   "metadata": {},
   "outputs": [],
   "source": [
    "from sklearn.datasets import load_iris"
   ]
  },
  {
   "cell_type": "code",
   "execution_count": 73,
   "metadata": {},
   "outputs": [],
   "source": [
    "iris = load_iris()"
   ]
  },
  {
   "cell_type": "code",
   "execution_count": 74,
   "metadata": {},
   "outputs": [],
   "source": [
    "from tensorflow.keras.models import Sequential\n",
    "from tensorflow.keras.layers import Dense\n",
    "import tensorflow as tf\n",
    "from tensorflow.keras.utils import to_categorical"
   ]
  },
  {
   "cell_type": "code",
   "execution_count": 75,
   "metadata": {},
   "outputs": [],
   "source": [
    "from sklearn.model_selection import train_test_split"
   ]
  },
  {
   "cell_type": "code",
   "execution_count": 76,
   "metadata": {},
   "outputs": [],
   "source": [
    "x_train, x_test, y_train, y_test = train_test_split(iris.data, iris.target, test_size=0.2, random_state=42)"
   ]
  },
  {
   "cell_type": "code",
   "execution_count": 77,
   "metadata": {},
   "outputs": [],
   "source": [
    "y_train = to_categorical(y_train, num_classes=3)\n",
    "y_test = to_categorical(y_test, num_classes=3)"
   ]
  },
  {
   "cell_type": "code",
   "execution_count": 78,
   "metadata": {},
   "outputs": [],
   "source": [
    "model = Sequential()\n",
    "model.add(Dense(128, input_dim=4, activation='relu'))\n",
    "model.add(Dense(64, activation='relu'))\n",
    "model.add(Dense(3, activation='softmax'))"
   ]
  },
  {
   "cell_type": "code",
   "execution_count": 79,
   "metadata": {},
   "outputs": [],
   "source": [
    "categorical_crossentropy = tf.keras.losses.CategoricalCrossentropy()\n",
    "model.compile(loss=categorical_crossentropy, optimizer='adam', metrics=['accuracy'])"
   ]
  },
  {
   "cell_type": "code",
   "execution_count": 80,
   "metadata": {},
   "outputs": [
    {
     "name": "stdout",
     "output_type": "stream",
     "text": [
      "Epoch 1/99\n"
     ]
    },
    {
     "name": "stdout",
     "output_type": "stream",
     "text": [
      "4/4 [==============================] - 1s 5ms/step - loss: 1.1403 - accuracy: 0.3917\n",
      "Epoch 2/99\n",
      "4/4 [==============================] - 0s 7ms/step - loss: 0.9452 - accuracy: 0.6750\n",
      "Epoch 3/99\n",
      "4/4 [==============================] - 0s 4ms/step - loss: 0.8797 - accuracy: 0.6583\n",
      "Epoch 4/99\n",
      "4/4 [==============================] - 0s 5ms/step - loss: 0.7964 - accuracy: 0.7417\n",
      "Epoch 5/99\n",
      "4/4 [==============================] - 0s 4ms/step - loss: 0.7307 - accuracy: 0.8250\n",
      "Epoch 6/99\n",
      "4/4 [==============================] - 0s 5ms/step - loss: 0.6689 - accuracy: 0.8333\n",
      "Epoch 7/99\n",
      "4/4 [==============================] - 0s 3ms/step - loss: 0.6059 - accuracy: 0.9250\n",
      "Epoch 8/99\n",
      "4/4 [==============================] - 0s 7ms/step - loss: 0.5674 - accuracy: 0.7583\n",
      "Epoch 9/99\n",
      "4/4 [==============================] - 0s 6ms/step - loss: 0.5257 - accuracy: 0.8083\n",
      "Epoch 10/99\n",
      "4/4 [==============================] - 0s 4ms/step - loss: 0.4855 - accuracy: 0.9167\n",
      "Epoch 11/99\n",
      "4/4 [==============================] - 0s 4ms/step - loss: 0.4581 - accuracy: 0.9583\n",
      "Epoch 12/99\n",
      "4/4 [==============================] - 0s 4ms/step - loss: 0.4339 - accuracy: 0.9583\n",
      "Epoch 13/99\n",
      "4/4 [==============================] - 0s 4ms/step - loss: 0.4142 - accuracy: 0.9333\n",
      "Epoch 14/99\n",
      "4/4 [==============================] - 0s 7ms/step - loss: 0.3898 - accuracy: 0.9500\n",
      "Epoch 15/99\n",
      "4/4 [==============================] - 0s 4ms/step - loss: 0.3745 - accuracy: 0.9583\n",
      "Epoch 16/99\n",
      "4/4 [==============================] - 0s 4ms/step - loss: 0.3577 - accuracy: 0.9583\n",
      "Epoch 17/99\n",
      "4/4 [==============================] - 0s 3ms/step - loss: 0.3466 - accuracy: 0.9417\n",
      "Epoch 18/99\n",
      "4/4 [==============================] - 0s 5ms/step - loss: 0.3282 - accuracy: 0.9583\n",
      "Epoch 19/99\n",
      "4/4 [==============================] - 0s 4ms/step - loss: 0.3141 - accuracy: 0.9750\n",
      "Epoch 20/99\n",
      "4/4 [==============================] - 0s 5ms/step - loss: 0.3029 - accuracy: 0.9667\n",
      "Epoch 21/99\n",
      "4/4 [==============================] - 0s 10ms/step - loss: 0.2885 - accuracy: 0.9583\n",
      "Epoch 22/99\n",
      "4/4 [==============================] - 0s 5ms/step - loss: 0.2788 - accuracy: 0.9583\n",
      "Epoch 23/99\n",
      "4/4 [==============================] - 0s 5ms/step - loss: 0.2667 - accuracy: 0.9667\n",
      "Epoch 24/99\n",
      "4/4 [==============================] - 0s 4ms/step - loss: 0.2564 - accuracy: 0.9750\n",
      "Epoch 25/99\n",
      "4/4 [==============================] - 0s 5ms/step - loss: 0.2490 - accuracy: 0.9583\n",
      "Epoch 26/99\n",
      "4/4 [==============================] - 0s 3ms/step - loss: 0.2348 - accuracy: 0.9667\n",
      "Epoch 27/99\n",
      "4/4 [==============================] - 0s 5ms/step - loss: 0.2307 - accuracy: 0.9583\n",
      "Epoch 28/99\n",
      "4/4 [==============================] - 0s 4ms/step - loss: 0.2222 - accuracy: 0.9750\n",
      "Epoch 29/99\n",
      "4/4 [==============================] - 0s 4ms/step - loss: 0.2116 - accuracy: 0.9667\n",
      "Epoch 30/99\n",
      "4/4 [==============================] - 0s 3ms/step - loss: 0.2034 - accuracy: 0.9750\n",
      "Epoch 31/99\n",
      "4/4 [==============================] - 0s 4ms/step - loss: 0.2008 - accuracy: 0.9667\n",
      "Epoch 32/99\n",
      "4/4 [==============================] - 0s 3ms/step - loss: 0.1921 - accuracy: 0.9667\n",
      "Epoch 33/99\n",
      "4/4 [==============================] - 0s 3ms/step - loss: 0.1852 - accuracy: 0.9583\n",
      "Epoch 34/99\n",
      "4/4 [==============================] - 0s 4ms/step - loss: 0.1777 - accuracy: 0.9750\n",
      "Epoch 35/99\n",
      "4/4 [==============================] - 0s 3ms/step - loss: 0.1706 - accuracy: 0.9833\n",
      "Epoch 36/99\n",
      "4/4 [==============================] - 0s 3ms/step - loss: 0.1640 - accuracy: 0.9667\n",
      "Epoch 37/99\n",
      "4/4 [==============================] - 0s 3ms/step - loss: 0.1631 - accuracy: 0.9667\n",
      "Epoch 38/99\n",
      "4/4 [==============================] - 0s 6ms/step - loss: 0.1552 - accuracy: 0.9750\n",
      "Epoch 39/99\n",
      "4/4 [==============================] - 0s 4ms/step - loss: 0.1552 - accuracy: 0.9667\n",
      "Epoch 40/99\n",
      "4/4 [==============================] - 0s 8ms/step - loss: 0.1453 - accuracy: 0.9750\n",
      "Epoch 41/99\n",
      "4/4 [==============================] - 0s 5ms/step - loss: 0.1442 - accuracy: 0.9583\n",
      "Epoch 42/99\n",
      "4/4 [==============================] - 0s 4ms/step - loss: 0.1410 - accuracy: 0.9750\n",
      "Epoch 43/99\n",
      "4/4 [==============================] - 0s 9ms/step - loss: 0.1363 - accuracy: 0.9667\n",
      "Epoch 44/99\n",
      "4/4 [==============================] - 0s 10ms/step - loss: 0.1341 - accuracy: 0.9667\n",
      "Epoch 45/99\n",
      "4/4 [==============================] - 0s 6ms/step - loss: 0.1304 - accuracy: 0.9750\n",
      "Epoch 46/99\n",
      "4/4 [==============================] - 0s 3ms/step - loss: 0.1255 - accuracy: 0.9667\n",
      "Epoch 47/99\n",
      "4/4 [==============================] - 0s 5ms/step - loss: 0.1227 - accuracy: 0.9667\n",
      "Epoch 48/99\n",
      "4/4 [==============================] - 0s 4ms/step - loss: 0.1185 - accuracy: 0.9833\n",
      "Epoch 49/99\n",
      "4/4 [==============================] - 0s 3ms/step - loss: 0.1216 - accuracy: 0.9667\n",
      "Epoch 50/99\n",
      "4/4 [==============================] - 0s 3ms/step - loss: 0.1139 - accuracy: 0.9667\n",
      "Epoch 51/99\n",
      "4/4 [==============================] - 0s 4ms/step - loss: 0.1146 - accuracy: 0.9667\n",
      "Epoch 52/99\n",
      "4/4 [==============================] - 0s 3ms/step - loss: 0.1106 - accuracy: 0.9833\n",
      "Epoch 53/99\n",
      "4/4 [==============================] - 0s 3ms/step - loss: 0.1099 - accuracy: 0.9667\n",
      "Epoch 54/99\n",
      "4/4 [==============================] - 0s 2ms/step - loss: 0.1065 - accuracy: 0.9667\n",
      "Epoch 55/99\n",
      "4/4 [==============================] - 0s 3ms/step - loss: 0.1064 - accuracy: 0.9667\n",
      "Epoch 56/99\n",
      "4/4 [==============================] - 0s 8ms/step - loss: 0.1050 - accuracy: 0.9833\n",
      "Epoch 57/99\n",
      "4/4 [==============================] - 0s 6ms/step - loss: 0.1039 - accuracy: 0.9833\n",
      "Epoch 58/99\n",
      "4/4 [==============================] - 0s 3ms/step - loss: 0.1106 - accuracy: 0.9667\n",
      "Epoch 59/99\n",
      "4/4 [==============================] - 0s 4ms/step - loss: 0.0977 - accuracy: 0.9750\n",
      "Epoch 60/99\n",
      "4/4 [==============================] - 0s 3ms/step - loss: 0.1032 - accuracy: 0.9500\n",
      "Epoch 61/99\n",
      "4/4 [==============================] - 0s 3ms/step - loss: 0.0969 - accuracy: 0.9750\n",
      "Epoch 62/99\n",
      "4/4 [==============================] - 0s 5ms/step - loss: 0.0947 - accuracy: 0.9750\n",
      "Epoch 63/99\n",
      "4/4 [==============================] - 0s 3ms/step - loss: 0.0933 - accuracy: 0.9917\n",
      "Epoch 64/99\n",
      "4/4 [==============================] - 0s 3ms/step - loss: 0.0963 - accuracy: 0.9833\n",
      "Epoch 65/99\n",
      "4/4 [==============================] - 0s 3ms/step - loss: 0.0912 - accuracy: 0.9750\n",
      "Epoch 66/99\n",
      "4/4 [==============================] - 0s 4ms/step - loss: 0.0915 - accuracy: 0.9750\n",
      "Epoch 67/99\n",
      "4/4 [==============================] - 0s 11ms/step - loss: 0.0888 - accuracy: 0.9750\n",
      "Epoch 68/99\n",
      "4/4 [==============================] - 0s 6ms/step - loss: 0.0883 - accuracy: 0.9750\n",
      "Epoch 69/99\n",
      "4/4 [==============================] - 0s 7ms/step - loss: 0.0878 - accuracy: 0.9750\n",
      "Epoch 70/99\n",
      "4/4 [==============================] - 0s 5ms/step - loss: 0.0915 - accuracy: 0.9750\n",
      "Epoch 71/99\n",
      "4/4 [==============================] - 0s 6ms/step - loss: 0.0872 - accuracy: 0.9750\n",
      "Epoch 72/99\n",
      "4/4 [==============================] - 0s 19ms/step - loss: 0.0873 - accuracy: 0.9750\n",
      "Epoch 73/99\n",
      "4/4 [==============================] - 0s 7ms/step - loss: 0.0834 - accuracy: 0.9833\n",
      "Epoch 74/99\n",
      "4/4 [==============================] - 0s 6ms/step - loss: 0.0833 - accuracy: 0.9917\n",
      "Epoch 75/99\n",
      "4/4 [==============================] - 0s 3ms/step - loss: 0.0849 - accuracy: 0.9750\n",
      "Epoch 76/99\n",
      "4/4 [==============================] - 0s 3ms/step - loss: 0.0903 - accuracy: 0.9667\n",
      "Epoch 77/99\n",
      "4/4 [==============================] - 0s 3ms/step - loss: 0.0840 - accuracy: 0.9833\n",
      "Epoch 78/99\n",
      "4/4 [==============================] - 0s 5ms/step - loss: 0.0817 - accuracy: 0.9750\n",
      "Epoch 79/99\n",
      "4/4 [==============================] - 0s 3ms/step - loss: 0.0798 - accuracy: 0.9833\n",
      "Epoch 80/99\n",
      "4/4 [==============================] - 0s 3ms/step - loss: 0.0800 - accuracy: 0.9833\n",
      "Epoch 81/99\n",
      "4/4 [==============================] - 0s 4ms/step - loss: 0.0869 - accuracy: 0.9667\n",
      "Epoch 82/99\n",
      "4/4 [==============================] - 0s 4ms/step - loss: 0.0849 - accuracy: 0.9583\n",
      "Epoch 83/99\n",
      "4/4 [==============================] - 0s 6ms/step - loss: 0.0802 - accuracy: 0.9833\n",
      "Epoch 84/99\n",
      "4/4 [==============================] - 0s 5ms/step - loss: 0.0782 - accuracy: 0.9750\n",
      "Epoch 85/99\n",
      "4/4 [==============================] - 0s 9ms/step - loss: 0.0954 - accuracy: 0.9583\n",
      "Epoch 86/99\n",
      "4/4 [==============================] - 0s 5ms/step - loss: 0.0759 - accuracy: 0.9833\n",
      "Epoch 87/99\n",
      "4/4 [==============================] - 0s 3ms/step - loss: 0.0846 - accuracy: 0.9750\n",
      "Epoch 88/99\n",
      "4/4 [==============================] - 0s 10ms/step - loss: 0.0799 - accuracy: 0.9583\n",
      "Epoch 89/99\n",
      "4/4 [==============================] - 0s 6ms/step - loss: 0.0803 - accuracy: 0.9583\n",
      "Epoch 90/99\n",
      "4/4 [==============================] - 0s 6ms/step - loss: 0.0798 - accuracy: 0.9750\n",
      "Epoch 91/99\n",
      "4/4 [==============================] - 0s 4ms/step - loss: 0.0735 - accuracy: 0.9750\n",
      "Epoch 92/99\n",
      "4/4 [==============================] - 0s 5ms/step - loss: 0.0801 - accuracy: 0.9667\n",
      "Epoch 93/99\n",
      "4/4 [==============================] - 0s 4ms/step - loss: 0.0742 - accuracy: 0.9833\n",
      "Epoch 94/99\n",
      "4/4 [==============================] - 0s 5ms/step - loss: 0.0731 - accuracy: 0.9833\n",
      "Epoch 95/99\n",
      "4/4 [==============================] - 0s 9ms/step - loss: 0.0738 - accuracy: 0.9750\n",
      "Epoch 96/99\n",
      "4/4 [==============================] - 0s 8ms/step - loss: 0.0748 - accuracy: 0.9833\n",
      "Epoch 97/99\n",
      "4/4 [==============================] - 0s 4ms/step - loss: 0.0735 - accuracy: 0.9833\n",
      "Epoch 98/99\n",
      "4/4 [==============================] - 0s 3ms/step - loss: 0.0725 - accuracy: 0.9833\n",
      "Epoch 99/99\n",
      "4/4 [==============================] - 0s 5ms/step - loss: 0.0725 - accuracy: 0.9833\n"
     ]
    },
    {
     "data": {
      "text/plain": [
       "<keras.src.callbacks.History at 0x2b335c37250>"
      ]
     },
     "execution_count": 80,
     "metadata": {},
     "output_type": "execute_result"
    }
   ],
   "source": [
    "model.fit(\n",
    "    x=x_train,\n",
    "    y=y_train,\n",
    "    epochs=99\n",
    ")"
   ]
  },
  {
   "cell_type": "code",
   "execution_count": 81,
   "metadata": {},
   "outputs": [
    {
     "name": "stdout",
     "output_type": "stream",
     "text": [
      "1/1 [==============================] - 0s 113ms/step\n"
     ]
    },
    {
     "data": {
      "text/plain": [
       "array([[6.5063807e-04, 9.6526653e-01, 3.4082852e-02],\n",
       "       [9.9960917e-01, 3.9084785e-04, 8.1958544e-11],\n",
       "       [6.2983425e-08, 5.6196726e-04, 9.9943799e-01],\n",
       "       [8.1171200e-04, 9.3957162e-01, 5.9616689e-02],\n",
       "       [3.5465468e-04, 9.8393089e-01, 1.5714454e-02],\n",
       "       [9.9906999e-01, 9.3000900e-04, 5.6506605e-10],\n",
       "       [4.9670041e-03, 9.9395567e-01, 1.0773574e-03],\n",
       "       [7.7818717e-05, 2.0782015e-01, 7.9210204e-01],\n",
       "       [4.4495324e-04, 6.5104812e-01, 3.4850690e-01],\n",
       "       [1.2784163e-03, 9.9697328e-01, 1.7482071e-03],\n",
       "       [1.7873198e-04, 3.5347462e-01, 6.4634669e-01],\n",
       "       [9.9853551e-01, 1.4644852e-03, 2.5875828e-09],\n",
       "       [9.9972862e-01, 2.7137058e-04, 7.7845334e-11],\n",
       "       [9.9858510e-01, 1.4149360e-03, 1.9665327e-09],\n",
       "       [9.9973136e-01, 2.6862137e-04, 1.5546565e-10],\n",
       "       [6.5493205e-04, 9.7681946e-01, 2.2525694e-02],\n",
       "       [1.2512564e-06, 3.0357467e-03, 9.9696296e-01],\n",
       "       [1.3917447e-03, 9.9448955e-01, 4.1187732e-03],\n",
       "       [9.7448897e-04, 9.1850895e-01, 8.0516525e-02],\n",
       "       [1.6426359e-06, 3.3526812e-03, 9.9664563e-01],\n",
       "       [9.9820006e-01, 1.7999354e-03, 4.0831867e-09],\n",
       "       [2.6553654e-04, 3.6521637e-01, 6.3451809e-01],\n",
       "       [9.9862015e-01, 1.3799000e-03, 1.9387583e-09],\n",
       "       [1.9939332e-06, 4.1264407e-03, 9.9587160e-01],\n",
       "       [3.0967447e-05, 3.6673358e-01, 6.3323545e-01],\n",
       "       [1.8765364e-05, 4.4571344e-02, 9.5540994e-01],\n",
       "       [1.8125419e-06, 5.7474673e-03, 9.9425077e-01],\n",
       "       [1.0522821e-06, 3.4654133e-03, 9.9653351e-01],\n",
       "       [9.9785596e-01, 2.1440152e-03, 5.1821023e-09],\n",
       "       [9.9763978e-01, 2.3602489e-03, 4.9956883e-09]], dtype=float32)"
      ]
     },
     "execution_count": 81,
     "metadata": {},
     "output_type": "execute_result"
    }
   ],
   "source": [
    "model.predict(x_test)"
   ]
  },
  {
   "cell_type": "code",
   "execution_count": 82,
   "metadata": {},
   "outputs": [
    {
     "data": {
      "text/plain": [
       "array(['setosa', 'versicolor', 'virginica'], dtype='<U10')"
      ]
     },
     "execution_count": 82,
     "metadata": {},
     "output_type": "execute_result"
    }
   ],
   "source": [
    "iris.target_names"
   ]
  },
  {
   "cell_type": "code",
   "execution_count": 83,
   "metadata": {},
   "outputs": [
    {
     "data": {
      "text/plain": [
       "array([1., 0., 0.], dtype=float32)"
      ]
     },
     "execution_count": 83,
     "metadata": {},
     "output_type": "execute_result"
    }
   ],
   "source": [
    "y_test[1]"
   ]
  },
  {
   "cell_type": "code",
   "execution_count": 84,
   "metadata": {},
   "outputs": [
    {
     "name": "stdout",
     "output_type": "stream",
     "text": [
      "1/1 [==============================] - 0s 355ms/step - loss: 0.0775 - accuracy: 1.0000\n"
     ]
    },
    {
     "data": {
      "text/plain": [
       "[0.07752685248851776, 1.0]"
      ]
     },
     "execution_count": 84,
     "metadata": {},
     "output_type": "execute_result"
    }
   ],
   "source": [
    "model.evaluate(x_test, y_test)"
   ]
  },
  {
   "cell_type": "code",
   "execution_count": null,
   "metadata": {},
   "outputs": [],
   "source": []
  }
 ],
 "metadata": {
  "kernelspec": {
   "display_name": "Python 3",
   "language": "python",
   "name": "python3"
  },
  "language_info": {
   "codemirror_mode": {
    "name": "ipython",
    "version": 3
   },
   "file_extension": ".py",
   "mimetype": "text/x-python",
   "name": "python",
   "nbconvert_exporter": "python",
   "pygments_lexer": "ipython3",
   "version": "3.11.4"
  }
 },
 "nbformat": 4,
 "nbformat_minor": 2
}
