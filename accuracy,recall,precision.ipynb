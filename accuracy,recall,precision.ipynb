{
 "cells": [
  {
   "cell_type": "code",
   "execution_count": 19,
   "id": "1deb6b97-b354-4f43-a5d4-10ff0741e9f4",
   "metadata": {},
   "outputs": [],
   "source": [
    "import pandas as pd\n",
    "import warnings\n",
    "warnings.filterwarnings('ignore')\n",
    "from sklearn.preprocessing import LabelEncoder\n",
    "from sklearn.preprocessing import MinMaxScaler\n",
    "from sklearn.linear_model import LogisticRegression\n",
    "import numpy as np"
   ]
  },
  {
   "cell_type": "code",
   "execution_count": 20,
   "id": "41067529-39d1-4ed8-8b06-cb738bc7e2e3",
   "metadata": {},
   "outputs": [],
   "source": [
    "train_df = pd.read_csv('./datasets/titanic_train.csv')\n",
    "test_df = pd.read_csv('./datasets/titanic_test.csv')\n",
    "test_y_df=pd.read_csv('./datasets/titanic_gender_submission.csv')"
   ]
  },
  {
   "cell_type": "code",
   "execution_count": 21,
   "id": "76ceffa9-b6da-4740-a448-c52befe63e2f",
   "metadata": {},
   "outputs": [],
   "source": [
    "train = train_df[['Pclass' , 'Sex' , 'Age' ,'Survived']]\n",
    "test = test_df[['Pclass' , 'Sex' , 'Age' ]]\n",
    "test_y = test_y_df['Survived']"
   ]
  },
  {
   "cell_type": "code",
   "execution_count": 22,
   "id": "29d02626-0825-4e29-9e3d-666c3cfc637a",
   "metadata": {},
   "outputs": [
    {
     "data": {
      "text/plain": [
       "Pclass        0\n",
       "Sex           0\n",
       "Age         177\n",
       "Survived      0\n",
       "dtype: int64"
      ]
     },
     "execution_count": 22,
     "metadata": {},
     "output_type": "execute_result"
    }
   ],
   "source": [
    "train.isnull().sum()"
   ]
  },
  {
   "cell_type": "code",
   "execution_count": 23,
   "id": "10b920de-c3e8-4e06-9676-bf0a884f177e",
   "metadata": {},
   "outputs": [],
   "source": [
    "train = train.dropna(axis=0)"
   ]
  },
  {
   "cell_type": "code",
   "execution_count": 24,
   "id": "10f439a2-8cd6-4bed-b2c7-89ae5ee35683",
   "metadata": {},
   "outputs": [],
   "source": [
    "# Sex Labelencoding\n",
    "encoder = LabelEncoder()\n",
    "data = encoder.fit_transform(train['Sex'])\n",
    "train['Sex']=data"
   ]
  },
  {
   "cell_type": "code",
   "execution_count": 25,
   "id": "f005df01-99ea-4e25-b6fc-673b87ab8c98",
   "metadata": {},
   "outputs": [],
   "source": [
    "# Age Scalering\n",
    "scaler = MinMaxScaler()\n",
    "data = scaler.fit_transform(train[['Age']])\n",
    "train['Age'] = data"
   ]
  },
  {
   "cell_type": "code",
   "execution_count": 26,
   "id": "8aa1a20b-fd72-4e79-9999-82b3b566075e",
   "metadata": {},
   "outputs": [
    {
     "data": {
      "text/html": [
       "<style>#sk-container-id-2 {color: black;}#sk-container-id-2 pre{padding: 0;}#sk-container-id-2 div.sk-toggleable {background-color: white;}#sk-container-id-2 label.sk-toggleable__label {cursor: pointer;display: block;width: 100%;margin-bottom: 0;padding: 0.3em;box-sizing: border-box;text-align: center;}#sk-container-id-2 label.sk-toggleable__label-arrow:before {content: \"▸\";float: left;margin-right: 0.25em;color: #696969;}#sk-container-id-2 label.sk-toggleable__label-arrow:hover:before {color: black;}#sk-container-id-2 div.sk-estimator:hover label.sk-toggleable__label-arrow:before {color: black;}#sk-container-id-2 div.sk-toggleable__content {max-height: 0;max-width: 0;overflow: hidden;text-align: left;background-color: #f0f8ff;}#sk-container-id-2 div.sk-toggleable__content pre {margin: 0.2em;color: black;border-radius: 0.25em;background-color: #f0f8ff;}#sk-container-id-2 input.sk-toggleable__control:checked~div.sk-toggleable__content {max-height: 200px;max-width: 100%;overflow: auto;}#sk-container-id-2 input.sk-toggleable__control:checked~label.sk-toggleable__label-arrow:before {content: \"▾\";}#sk-container-id-2 div.sk-estimator input.sk-toggleable__control:checked~label.sk-toggleable__label {background-color: #d4ebff;}#sk-container-id-2 div.sk-label input.sk-toggleable__control:checked~label.sk-toggleable__label {background-color: #d4ebff;}#sk-container-id-2 input.sk-hidden--visually {border: 0;clip: rect(1px 1px 1px 1px);clip: rect(1px, 1px, 1px, 1px);height: 1px;margin: -1px;overflow: hidden;padding: 0;position: absolute;width: 1px;}#sk-container-id-2 div.sk-estimator {font-family: monospace;background-color: #f0f8ff;border: 1px dotted black;border-radius: 0.25em;box-sizing: border-box;margin-bottom: 0.5em;}#sk-container-id-2 div.sk-estimator:hover {background-color: #d4ebff;}#sk-container-id-2 div.sk-parallel-item::after {content: \"\";width: 100%;border-bottom: 1px solid gray;flex-grow: 1;}#sk-container-id-2 div.sk-label:hover label.sk-toggleable__label {background-color: #d4ebff;}#sk-container-id-2 div.sk-serial::before {content: \"\";position: absolute;border-left: 1px solid gray;box-sizing: border-box;top: 0;bottom: 0;left: 50%;z-index: 0;}#sk-container-id-2 div.sk-serial {display: flex;flex-direction: column;align-items: center;background-color: white;padding-right: 0.2em;padding-left: 0.2em;position: relative;}#sk-container-id-2 div.sk-item {position: relative;z-index: 1;}#sk-container-id-2 div.sk-parallel {display: flex;align-items: stretch;justify-content: center;background-color: white;position: relative;}#sk-container-id-2 div.sk-item::before, #sk-container-id-2 div.sk-parallel-item::before {content: \"\";position: absolute;border-left: 1px solid gray;box-sizing: border-box;top: 0;bottom: 0;left: 50%;z-index: -1;}#sk-container-id-2 div.sk-parallel-item {display: flex;flex-direction: column;z-index: 1;position: relative;background-color: white;}#sk-container-id-2 div.sk-parallel-item:first-child::after {align-self: flex-end;width: 50%;}#sk-container-id-2 div.sk-parallel-item:last-child::after {align-self: flex-start;width: 50%;}#sk-container-id-2 div.sk-parallel-item:only-child::after {width: 0;}#sk-container-id-2 div.sk-dashed-wrapped {border: 1px dashed gray;margin: 0 0.4em 0.5em 0.4em;box-sizing: border-box;padding-bottom: 0.4em;background-color: white;}#sk-container-id-2 div.sk-label label {font-family: monospace;font-weight: bold;display: inline-block;line-height: 1.2em;}#sk-container-id-2 div.sk-label-container {text-align: center;}#sk-container-id-2 div.sk-container {/* jupyter's `normalize.less` sets `[hidden] { display: none; }` but bootstrap.min.css set `[hidden] { display: none !important; }` so we also need the `!important` here to be able to override the default hidden behavior on the sphinx rendered scikit-learn.org. See: https://github.com/scikit-learn/scikit-learn/issues/21755 */display: inline-block !important;position: relative;}#sk-container-id-2 div.sk-text-repr-fallback {display: none;}</style><div id=\"sk-container-id-2\" class=\"sk-top-container\"><div class=\"sk-text-repr-fallback\"><pre>LogisticRegression()</pre><b>In a Jupyter environment, please rerun this cell to show the HTML representation or trust the notebook. <br />On GitHub, the HTML representation is unable to render, please try loading this page with nbviewer.org.</b></div><div class=\"sk-container\" hidden><div class=\"sk-item\"><div class=\"sk-estimator sk-toggleable\"><input class=\"sk-toggleable__control sk-hidden--visually\" id=\"sk-estimator-id-2\" type=\"checkbox\" checked><label for=\"sk-estimator-id-2\" class=\"sk-toggleable__label sk-toggleable__label-arrow\">LogisticRegression</label><div class=\"sk-toggleable__content\"><pre>LogisticRegression()</pre></div></div></div></div></div>"
      ],
      "text/plain": [
       "LogisticRegression()"
      ]
     },
     "execution_count": 26,
     "metadata": {},
     "output_type": "execute_result"
    }
   ],
   "source": [
    "X = train.drop('Survived' ,axis=1)\n",
    "y = train['Survived']\n",
    "lr = LogisticRegression()\n",
    "\n",
    "lr.fit(X, y)"
   ]
  },
  {
   "cell_type": "code",
   "execution_count": 27,
   "id": "4c78ac33-2127-46ad-a755-2ba0e15fc3be",
   "metadata": {},
   "outputs": [],
   "source": [
    "# test data preprocessing\n",
    "test = test.fillna(np.mean(test['Age']))\n",
    "\n",
    "# Sex Labelencoding\n",
    "encoder = LabelEncoder()\n",
    "data = encoder.fit_transform(test['Sex'])\n",
    "test['Sex']=data\n",
    "\n",
    "# Age Scalering\n",
    "scaler = MinMaxScaler()\n",
    "data = scaler.fit_transform(test[['Age']])\n",
    "test['Age'] = data"
   ]
  },
  {
   "cell_type": "code",
   "execution_count": 28,
   "id": "78c25542-3f46-468d-9911-6173d5d86129",
   "metadata": {},
   "outputs": [],
   "source": [
    "pred = lr.predict(test)"
   ]
  },
  {
   "cell_type": "markdown",
   "id": "59317a7b-05fe-44cf-936a-70c1b61228b6",
   "metadata": {},
   "source": [
    "### accuracy_score, recall_score, precision_score, f1_score, cofusion_matrix\n",
    "\n",
    "#### sklearn.metrics.accuracy_score\n",
    "* sklearn.metrics.accuracy_score(y_true, y_pred, *, normalize=True, sample_weight=None)\n",
    " \n",
    "#### sklearn.metrics.recall_score\n",
    "* sklearn.metrics.recall_score(y_true, y_pred, *, labels=None, pos_label=1, average='binary', sample_weight=None, zero_division='warn')\n",
    " \n",
    "#### sklearn.metrics.precision_score\n",
    "* sklearn.metrics.precision_score(y_true, y_pred, *, labels=None, pos_label=1, average='binary', sample_weight=None, zero_division='warn')\n",
    "\n",
    "#### sklearn.metrics.f1_score\n",
    "* sklearn.metrics.f1_score(y_true, y_pred, *, labels=None, pos_label=1, average='binary', sample_weight=None, zero_division='warn')\n",
    "\n",
    "#### sklearn.metrics.confusion_matrix\n",
    "* sklearn.metrics.confusion_matrix(y_true, y_pred, *, labels=None, sample_weight=None, normalize=None)"
   ]
  },
  {
   "cell_type": "code",
   "execution_count": 29,
   "id": "9024a71c-3d7f-4c73-b3a5-c42182f2d0a0",
   "metadata": {},
   "outputs": [],
   "source": [
    "from sklearn.metrics import accuracy_score, recall_score, precision_score, f1_score, confusion_matrix\n",
    "\n",
    "def get_eval(y_test, pred):\n",
    "    accuracy = accuracy_score(y_test, pred)\n",
    "    recall = recall_score(y_test, pred)\n",
    "    precision = precision_score(y_test, pred)\n",
    "    f1score = f1_score(y_test, pred)\n",
    "    matrix = confusion_matrix(y_test, pred)\n",
    "    \n",
    "    print(f'혼돈 행렬은 : {matrix}')\n",
    "    print(f'정확도 : {accuracy}, 재현율 : {recall}, 정밀도 : {precision}, f1스코어 : {f1score}')"
   ]
  },
  {
   "cell_type": "code",
   "execution_count": 30,
   "id": "b21ac2cb-8e1d-4411-80ea-30f8f8ef0a1a",
   "metadata": {},
   "outputs": [
    {
     "name": "stdout",
     "output_type": "stream",
     "text": [
      "혼돈 행렬은 : [[252  14]\n",
      " [ 10 142]]\n",
      "정확도 : 0.9425837320574163, 재현율 : 0.9342105263157895, 정밀도 : 0.9102564102564102, f1스코어 : 0.922077922077922\n"
     ]
    }
   ],
   "source": [
    "get_eval(test_y, pred)"
   ]
  },
  {
   "cell_type": "code",
   "execution_count": 31,
   "id": "f9f297ea-c451-4ab3-a90e-2c47878e4e7d",
   "metadata": {},
   "outputs": [],
   "source": [
    "pred_proba = lr.predict_proba(test)"
   ]
  },
  {
   "cell_type": "code",
   "execution_count": 32,
   "id": "7c7503f9-6ac6-423e-b0bf-2b34ee4addda",
   "metadata": {},
   "outputs": [],
   "source": [
    "pred = lr.predict(test)"
   ]
  },
  {
   "cell_type": "code",
   "execution_count": 33,
   "id": "559ea20d-6ab6-4863-86c9-fb0b00d7ab4d",
   "metadata": {},
   "outputs": [
    {
     "data": {
      "text/plain": [
       "array([[0.92140531, 0.07859469],\n",
       "       [0.59987979, 0.40012021],\n",
       "       [0.88759265, 0.11240735],\n",
       "       [0.90468156, 0.09531844],\n",
       "       [0.42576367, 0.57423633]])"
      ]
     },
     "execution_count": 33,
     "metadata": {},
     "output_type": "execute_result"
    }
   ],
   "source": [
    "pred_proba[:5]"
   ]
  },
  {
   "cell_type": "code",
   "execution_count": 34,
   "id": "5a6c901a-02b3-4715-b847-d9b4289f9cc6",
   "metadata": {},
   "outputs": [
    {
     "data": {
      "text/plain": [
       "array([0, 0, 0, 0, 1], dtype=int64)"
      ]
     },
     "execution_count": 34,
     "metadata": {},
     "output_type": "execute_result"
    }
   ],
   "source": [
    "pred[:5]"
   ]
  },
  {
   "cell_type": "markdown",
   "id": "0632101e-81d6-4247-9b17-c8614e4c5757",
   "metadata": {},
   "source": [
    "### sklearn.metrics.precision_recall_curve\n",
    "* sklearn.metrics.precision_recall_curve(y_true, probas_pred, *, pos_label=None, sample_weight=None, drop_intermediate=False)"
   ]
  },
  {
   "cell_type": "code",
   "execution_count": 37,
   "id": "64ddbc25-3337-45d2-925b-17d317b600a6",
   "metadata": {},
   "outputs": [],
   "source": [
    "from sklearn.metrics import precision_recall_curve\n",
    "precisions, recalls, thresholds = precision_recall_curve(test_y, pred_proba[:, 1])"
   ]
  },
  {
   "cell_type": "code",
   "execution_count": 38,
   "id": "8f5c9f4d-531b-4333-a21d-b159324cfc53",
   "metadata": {},
   "outputs": [
    {
     "data": {
      "image/png": "[encoded data removed]",
      "text/plain": [
       "<Figure size 640x480 with 1 Axes>"
      ]
     },
     "metadata": {},
     "output_type": "display_data"
    }
   ],
   "source": [
    "import matplotlib.pyplot as plt\n",
    "\n",
    "plt.title(\"Precision-Recall Graph\")\n",
    "plt.xlabel(\"thresholds\"   )\n",
    "plt.ylabel(\"Precision and recall\")\n",
    "plt.plot(thresholds, precisions[:len(precisions)-1], \"b\", label = \"precisions\")\n",
    "plt.plot(thresholds, recalls[:len(recalls)-1], \"g\", label = \"recalls\")\n",
    "plt.legend(loc = \"upper right\")\n",
    "plt.show()"
   ]
  },
  {
   "cell_type": "code",
   "execution_count": null,
   "id": "f3fb4452-66ea-481d-829c-a03c13a49417",
   "metadata": {},
   "outputs": [],
   "source": []
  }
 ],
 "metadata": {
  "kernelspec": {
   "display_name": "Python 3 (ipykernel)",
   "language": "python",
   "name": "python3"
  },
  "language_info": {
   "codemirror_mode": {
    "name": "ipython",
    "version": 3
   },
   "file_extension": ".py",
   "mimetype": "text/x-python",
   "name": "python",
   "nbconvert_exporter": "python",
   "pygments_lexer": "ipython3",
   "version": "3.11.4"
  }
 },
 "nbformat": 4,
 "nbformat_minor": 5
}
